{
  "nbformat": 4,
  "nbformat_minor": 0,
  "metadata": {
    "colab": {
      "name": "「南非_再出發 (不同病毒株)_整理」的副本",
      "provenance": [],
      "collapsed_sections": []
    },
    "kernelspec": {
      "name": "python3",
      "display_name": "Python 3"
    }
  },
  "cells": [
    {
      "cell_type": "markdown",
      "metadata": {
        "id": "QoBYUqWdYiPx"
      },
      "source": [
        "#初始化 \n",
        "#輸入的資料是從2020/3/5開始"
      ]
    },
    {
      "cell_type": "code",
      "metadata": {
        "id": "LKcUG-yvSUVa",
        "colab": {
          "base_uri": "https://localhost:8080/"
        },
        "outputId": "01a5aec4-60e8-4d8e-8792-003b691b2c3e"
      },
      "source": [
        "#from scipy.integrate import z\n",
        "import numpy as np\n",
        "import matplotlib.pyplot as plt\n",
        "import matplotlib as mpl\n",
        "import datetime as dt\n",
        "%matplotlib inline \n",
        "!pip install mpld3\n",
        "import mpld3\n",
        "mpld3.enable_notebook()\n",
        "!pip install lmfit\n",
        "from scipy.integrate import odeint\n",
        "from scipy.optimize import minimize"
      ],
      "execution_count": 27,
      "outputs": [
        {
          "output_type": "stream",
          "text": [
            "Requirement already satisfied: mpld3 in /usr/local/lib/python3.7/dist-packages (0.5.5)\n",
            "Requirement already satisfied: matplotlib in /usr/local/lib/python3.7/dist-packages (from mpld3) (3.2.2)\n",
            "Requirement already satisfied: jinja2 in /usr/local/lib/python3.7/dist-packages (from mpld3) (2.11.3)\n",
            "Requirement already satisfied: MarkupSafe>=0.23 in /usr/local/lib/python3.7/dist-packages (from jinja2->mpld3) (2.0.1)\n",
            "Requirement already satisfied: python-dateutil>=2.1 in /usr/local/lib/python3.7/dist-packages (from matplotlib->mpld3) (2.8.1)\n",
            "Requirement already satisfied: numpy>=1.11 in /usr/local/lib/python3.7/dist-packages (from matplotlib->mpld3) (1.19.5)\n",
            "Requirement already satisfied: cycler>=0.10 in /usr/local/lib/python3.7/dist-packages (from matplotlib->mpld3) (0.10.0)\n",
            "Requirement already satisfied: pyparsing!=2.0.4,!=2.1.2,!=2.1.6,>=2.0.1 in /usr/local/lib/python3.7/dist-packages (from matplotlib->mpld3) (2.4.7)\n",
            "Requirement already satisfied: kiwisolver>=1.0.1 in /usr/local/lib/python3.7/dist-packages (from matplotlib->mpld3) (1.3.1)\n",
            "Requirement already satisfied: six in /usr/local/lib/python3.7/dist-packages (from cycler>=0.10->matplotlib->mpld3) (1.15.0)\n",
            "Requirement already satisfied: lmfit in /usr/local/lib/python3.7/dist-packages (1.0.2)\n",
            "Requirement already satisfied: numpy>=1.16 in /usr/local/lib/python3.7/dist-packages (from lmfit) (1.19.5)\n",
            "Requirement already satisfied: asteval>=0.9.16 in /usr/local/lib/python3.7/dist-packages (from lmfit) (0.9.25)\n",
            "Requirement already satisfied: scipy>=1.2 in /usr/local/lib/python3.7/dist-packages (from lmfit) (1.4.1)\n",
            "Requirement already satisfied: uncertainties>=3.0.1 in /usr/local/lib/python3.7/dist-packages (from lmfit) (3.1.6)\n",
            "Requirement already satisfied: future in /usr/local/lib/python3.7/dist-packages (from uncertainties>=3.0.1->lmfit) (0.16.0)\n"
          ],
          "name": "stdout"
        }
      ]
    },
    {
      "cell_type": "code",
      "metadata": {
        "colab": {
          "base_uri": "https://localhost:8080/"
        },
        "id": "6BzPUE_Sh6O4",
        "outputId": "61544833-7828-4751-a5f0-954473d05386"
      },
      "source": [
        "from google.colab import drive\n",
        "drive.mount('/content/gdrive')\n",
        "#4/1AX4XfWjJnpuRtu9h4GiFGRLz7TUupFKo6SUOVD4M-vRe7lBtNBiiBRrlsiQ"
      ],
      "execution_count": 3,
      "outputs": [
        {
          "output_type": "stream",
          "text": [
            "Mounted at /content/gdrive\n"
          ],
          "name": "stdout"
        }
      ]
    },
    {
      "cell_type": "code",
      "metadata": {
        "id": "js8I_9AMqXN9"
      },
      "source": [
        "import pandas as pd\n",
        "#all_data = pd.read_csv(\"owid-covid-data_0711.csv\")\n",
        "all_data = pd.read_csv('/content/gdrive/My Drive/owid-covid-data_0711.csv')\n",
        "all_data = all_data.fillna(0)\n",
        "Italy = list(all_data.total_cases[83935:84427])\n",
        "Italy_death = list(all_data.total_deaths[83935:84427])\n",
        "Italy_hospital = list(all_data.hosp_patients[83935:84427])\n",
        "print(len(Italy))\n",
        "t = np.linspace(0, 450, 451)\n",
        "f, ax = plt.subplots(1,1,figsize=(15,4))\n",
        "ax.plot(t, Italy_death[:451], 'k', alpha=0.7, linewidth=2, label='Dead')\n",
        "ax.plot(t, Italy_hospital[:451], 'y', alpha=0.7, linewidth=2, label='Hospitalized')\n",
        "ax.set_xlabel('Time (days)')\n",
        "ax.yaxis.set_tick_params(length=0)\n",
        "ax.xaxis.set_tick_params(length=0)\n",
        "ax.grid(b=True, which='major', c='w', lw=2, ls='-')\n",
        "legend = ax.legend(borderpad=2.0)\n",
        "legend.get_frame().set_alpha(0.5)\n",
        "for spine in ('top', 'right', 'bottom', 'left'):\n",
        "    ax.spines[spine].set_visible(False)\n",
        "plt.show();\n",
        "\n",
        "f, ax = plt.subplots(1,1,figsize=(15,4))\n",
        "ax.plot(t, Italy[:451], 'b', alpha=0.7, linewidth=2, label='Total Infected')\n",
        "ax.set_xlabel('Time (days)')\n",
        "ax.yaxis.set_tick_params(length=0)\n",
        "ax.xaxis.set_tick_params(length=0)\n",
        "ax.grid(b=True, which='major', c='w', lw=2, ls='-')\n",
        "legend = ax.legend(borderpad=2.0)\n",
        "legend.get_frame().set_alpha(0.5)\n",
        "for spine in ('top', 'right', 'bottom', 'left'):\n",
        "    ax.spines[spine].set_visible(False)\n",
        "plt.show();\n",
        "\n",
        "collect_all = []\n",
        "print(Italy)"
      ],
      "execution_count": null,
      "outputs": []
    },
    {
      "cell_type": "code",
      "metadata": {
        "id": "EuWMqnD9kbhz"
      },
      "source": [
        "def plot(data):\n",
        "  f, ax = plt.subplots(1,1,figsize=(15,4))\n",
        "  ax.plot(list(range(len(data))), data, 'b', alpha=0.7, linewidth=2)\n",
        "  ax.set_xlabel('Time (days)')\n",
        "  ax.yaxis.set_tick_params(length=0)\n",
        "  ax.xaxis.set_tick_params(length=0)\n",
        "  ax.grid(b=True, which='major', c='w', lw=2, ls='-')\n",
        "  legend = ax.legend(borderpad=2.0)\n",
        "  legend.get_frame().set_alpha(0.5)\n",
        "  for spine in ('top', 'right', 'bottom', 'left'):\n",
        "      ax.spines[spine].set_visible(False)\n",
        "  plt.show();\n",
        "\n",
        "wave1 = (25,200)\n",
        "wave2 = (250,400)\n",
        "N = 59622350\n",
        "days1 = wave1[1] - wave1[0]\n",
        "days2 = wave2[1] - wave2[0]\n",
        "\n",
        "TotalInfected_1 = Italy[wave1[0]:wave1[1]]\n",
        "TotalInfected_2 = Italy[wave2[0]:wave2[1]]\n",
        "Death_1 = Italy_death[wave1[0]:wave1[1]]\n",
        "Death_2 = Italy_death[wave2[0]:wave2[1]]\n",
        "\n",
        "plot(TotalInfected_1)\n",
        "plot(TotalInfected_2)\n",
        "plot(Death_1)\n",
        "plot(Death_2)"
      ],
      "execution_count": null,
      "outputs": []
    },
    {
      "cell_type": "markdown",
      "metadata": {
        "id": "KUlDG4eB-lCd"
      },
      "source": [
        "#封城模型 (第一波疫情)\n",
        "2020/5/7 到 2021/3/1\n",
        "\n",
        "第57~241天 (第二波疫情)"
      ]
    },
    {
      "cell_type": "code",
      "metadata": {
        "id": "XhbeQ9s_oWIt"
      },
      "source": [
        "def plot(t, S, I, H, R, D, QS, QI, QR, real_Total_Infected, real_Total_Deaths, days, show = ['S', 'I', 'H', 'R', 'D', 'QS', 'QI', 'QR', 'pTI', 'pTD', 'rTI', 'rTD']):\n",
        "  predicted_Total_Infected = []\n",
        "  for i in range(days):\n",
        "    predicted_Total_Infected.append( H[i]+R[i]+D[i]+QR[i] )\n",
        "  #計算總感染人數 \n",
        "  \n",
        "  if ('S' in show) or ('I' in show) or ('R' in show) or ('H' in show) or ('D' in show) or ('QS' in show) or ('QI' in show) or ('QR' in show):\n",
        "    f, ax = plt.subplots(1,1,figsize=(10,5))\n",
        "    if 'S' in show:\n",
        "      ax.plot(t, S, 'b', alpha=0.7, linewidth=2, label='Susceptible')\n",
        "    if 'I' in show:\n",
        "      ax.plot(t, I, 'r', alpha=0.7, linewidth=2, label='Infected')\n",
        "    if 'H' in show:\n",
        "      ax.plot(t, H, 'y', alpha=0.7, linewidth=2, label='Hospitalized')\n",
        "    if 'R' in show:\n",
        "      ax.plot(t, R, 'g', alpha=0.7, linewidth=2, label='Recovered')\n",
        "    if 'D' in show:\n",
        "      ax.plot(t, D, 'k', alpha=0.7, linewidth=2, label='Dead')\n",
        "    if 'QS' in show:\n",
        "      ax.plot(t, QS, 'c', alpha=0.7, linewidth=2, label='Susceptible(Q)')\n",
        "    if 'QI' in show:\n",
        "      ax.plot(t, QI, 'm', alpha=0.7, linewidth=2, label='Infected(Q)')\n",
        "    if 'QR' in show:\n",
        "      ax.plot(t, QR, '#024E9F', alpha=0.7, linewidth=2, label='Recovered(Q)')\n",
        "\n",
        "    ax.set_xlabel('Time (days)', labelpad=16, size=16)\n",
        "    ax.set_ylabel('Populations (people)', labelpad=16, size=16)\n",
        "\n",
        "    ax.yaxis.set_tick_params(length=0)\n",
        "    ax.xaxis.set_tick_params(length=0)\n",
        "    ax.grid(b=True, which='major', c='w', lw=2, ls='-')\n",
        "    legend = ax.legend(borderpad=2.0)\n",
        "    legend.get_frame().set_alpha(0.5)\n",
        "    for spine in ('top', 'right', 'bottom', 'left'):\n",
        "        ax.spines[spine].set_visible(False)\n",
        "    plt.show();\n",
        "\n",
        "  # 針對總感染人數與總死亡人數的數據作圖\n",
        "  if ('rTI' in show) or ('rTD' in show) or ('pTI' in show) or ('pTD' in show):\n",
        "    f1, ax1 = plt.subplots(1,1,figsize=(10,5))\n",
        "\n",
        "    if 'rTI' in show:\n",
        "      ax1.plot(t, real_Total_Infected, 'b--', alpha=0.7, linewidth=2, label='Real Total Infected')\n",
        "    if 'rTD' in show:\n",
        "      ax1.plot(t, real_Total_Deaths, 'k--', alpha=0.7, linewidth=2, label='Real Total Deaths')\n",
        "    \n",
        "    if 'pTI' in show:\n",
        "      ax1.plot(t, predicted_Total_Infected, 'b', alpha=0.7, linewidth=2, label='Predicted Total Infected')  \n",
        "    if 'pTD' in show:\n",
        "      ax1.plot(t, D, 'k', alpha=0.7, linewidth=2, label='Predicted Total Deaths')\n",
        "\n",
        "    ax1.set_xlabel('Time (days)', labelpad=16, size=16)\n",
        "    ax1.set_ylabel('Populations (people)', labelpad=16, size=16)\n",
        "\n",
        "    ax1.yaxis.set_tick_params(length=0)\n",
        "    ax1.xaxis.set_tick_params(length=0)\n",
        "    ax1.grid(b=True, which='major', c='w', lw=2, ls='-')\n",
        "    legend = ax1.legend()\n",
        "    legend.get_frame().set_alpha(0.5)\n",
        "    for spine in ('top', 'right', 'bottom', 'left'):\n",
        "      ax1.spines[spine].set_visible(False)\n",
        "    plt.show();"
      ],
      "execution_count": 131,
      "outputs": []
    },
    {
      "cell_type": "code",
      "metadata": {
        "id": "sW-dN85PnXIt"
      },
      "source": [
        "def get_diff(populations, paras):\n",
        "  (S, I, H, R, D, QS, QI, QR) = populations\n",
        "  (alpha, beta, r_I, r_H, eta, tau, mu) = paras\n",
        "\n",
        "  n = S + I + R\n",
        "\n",
        "  dS = - alpha * S * I / n - S*tau*(beta*I+beta*QI) + mu*QS\n",
        "  dI = alpha * S * I / n - beta * I - r_I *I - I*tau*(beta*I+beta*QI)\n",
        "  dH = beta * I - r_H * H - eta * H + beta*QI\n",
        "  dR = r_I *I + r_H * H - R*tau*(beta*I+beta*QI) + mu*QR\n",
        "  dD = eta * H\n",
        "  dQS = S*tau*(beta*I+beta*QI) - mu*QS\n",
        "  dQI = I*tau*(beta*I+beta*QI) - r_I*QI - beta*QI \n",
        "  dQR = R*tau*(beta*I+beta*QI) + r_I*QI - mu*QR\n",
        "  return (dS, dI, dH, dR, dD, dQS, dQI, dQR)\n",
        "  \n",
        "def mimic(days, initial, paras):\n",
        "  t = np.linspace(0, days-1, days)\n",
        "  [S0, I0, H0, R0, D0, QS0, QI0, QR0] = initial\n",
        "\n",
        "  S = [S0]\n",
        "  I = [I0]\n",
        "  H = [H0]\n",
        "  R = [R0]\n",
        "  D = [D0]\n",
        "  QS = [QS0]\n",
        "  QI = [QI0]\n",
        "  QR = [QR0]\n",
        "  for i in range(days-1):\n",
        "    populations = [S[-1],I[-1],H[-1],R[-1],D[-1],QS[-1],QI[-1],QR[-1]]\n",
        "    (dS, dI, dH, dR, dD, dQS, dQI, dQR) = get_diff(populations, paras)\n",
        "    S.append(S[-1]+dS)\n",
        "    I.append(I[-1]+dI)\n",
        "    H.append(H[-1]+dH)\n",
        "    R.append(R[-1]+dR)\n",
        "    D.append(D[-1]+dD)\n",
        "    QS.append(QS[-1]+dQS)\n",
        "    QI.append(QI[-1]+dQI)\n",
        "    QR.append(QR[-1]+dQR)\n",
        "\n",
        "  return (t, S, I, H, R, D, QS, QI, QR) #以陣列回傳"
      ],
      "execution_count": 102,
      "outputs": []
    },
    {
      "cell_type": "code",
      "metadata": {
        "id": "XubfMqgGpDX6"
      },
      "source": [
        "#[alpha1, alpha2, beta, r_I, r_H, eta1, eta2, tau, mu] = [0.2272406488288084, 1.69390133896621] + [0.001]*7\n",
        "#[alpha1, alpha2, beta, r_I, r_H, eta1, eta2, tau, mu] = [0.5240658623087001, 0.6237138881360947, 0.015545150803274382, 0.4371684311473786, 0.4371684311473786, 0.09340477951081945, 0.09340477951081945, 0.00020424242233467476, 9.370566915917284e-47]\n",
        "#[alpha1, alpha2, beta1, beta2, r_I1, r_I2, r_H1, r_H2, eta1, eta2, tau, mu] = [0.48723469028469774, 0.5858933545068362, 0.01988064149382497, 0.01988064149382497, 0.39407830926111664, 0.39407830926111664, 0.018395730278878468, 0.018395730278878468, 0.025839519255141337, 0.09288786546081026, 0.00014953980756786663, 0.1]\n",
        "[alpha1, alpha2, beta1, beta2, r_I1, r_I2, r_H1, r_H2, eta1, eta2, tau, mu] = [0.05]*2+[0.5]*8+[0.01]*2\n",
        "#import warnings\n",
        "#warnings.filterwarnings(\"default\")"
      ],
      "execution_count": 135,
      "outputs": []
    },
    {
      "cell_type": "code",
      "metadata": {
        "id": "8ZtakRNjpB0k"
      },
      "source": [
        "[H0, QS0, QI0, QR0] = [0]*4\n",
        "\n",
        "def error_function(parameters):\n",
        "  global alpha1, alpha2, beta1, beta2, r_I1, r_I2, r_H1, r_H2, eta1, eta2, tau, mu\n",
        "  alpha1, alpha2, beta1, beta2, r_I1, r_I2, r_H1, r_H2, eta1, eta2, tau, mu = parameters\n",
        "\n",
        "  error = 0\n",
        "  for i in parameters:\n",
        "    error += int(i<0.0000)*(1-i)**2*1e15\n",
        "  error += int(alpha1>alpha2)*(alpha1-alpha2)**2*1e15\n",
        "  error += int(r_H1<r_I1*0.01)*(r_I1-r_H1)**2*1e15\n",
        "  error += int(r_H2<r_I2*0.01)*(r_I2-r_H2)**2*1e15\n",
        "  error += int(mu<0.01)*(1-mu)**2*1e15\n",
        "\n",
        "  R0 = TotalInfected_1[0] - Death_1[0]\n",
        "  I0 = 100\n",
        "  D0 = Death_1[0]\n",
        "  S0 = N - R0 - I0 - D0\n",
        "  (t, S, I, H, R, D, QS, QI, QR) = mimic(days1, [S0, I0, H0, R0, D0, QS0, QI0, QR0], [alpha1, beta1, r_I1, r_H1, eta1, tau, mu])\n",
        "  predicted_TotalInfected_1 = []\n",
        "  for i in range(days1):\n",
        "    predicted_TotalInfected_1.append(H[i]+R[i]+D[i]+QR[i])\n",
        "  for i in range(days1):\n",
        "    error += (TotalInfected_1[i]-predicted_TotalInfected_1[i])**2\n",
        "    error += (Death_1[i]-D[i])**2 *50\n",
        "  \n",
        "  R0 = TotalInfected_2[0] - Death_2[0]\n",
        "  I0 = 100\n",
        "  D0 = Death_2[0]\n",
        "  S0 = N - R0 - I0 - D0\n",
        "  (t, S, I, H, R, D, QS, QI, QR) = mimic(days2, [S0, I0, H0, R0, D0, QS0, QI0, QR0], [alpha2, beta2, r_I2, r_H2, eta2, tau, mu])\n",
        "  predicted_TotalInfected_2 = []\n",
        "  for i in range(days2):\n",
        "    predicted_TotalInfected_2.append(H[i]+R[i]+D[i]+QR[i])  \n",
        "  for i in range(days2):\n",
        "    error += (TotalInfected_2[i]-predicted_TotalInfected_2[i])**2\n",
        "    error += (Death_2[i]-D[i])**2 *50\n",
        "  \n",
        "  return error\n",
        "\n",
        "for i in range(10):\n",
        "  Result = minimize(error_function, [alpha1, alpha2, beta1, beta2, r_I1, r_I2, r_H1, r_H2, eta1, eta2, tau, mu], method = 'Nelder-Mead', options={'maxiter':1e3})\n",
        "  print(Result.fun/1e9, list(Result.x))\n",
        "print()\n",
        "print(Result)\n",
        "[alpha1, alpha2, beta1, beta2, r_I1, r_I2, r_H1, r_H2, eta1, eta2, tau, mu] = list(Result.x)\n",
        "\n",
        "#0.3613914607935472 [0.5240658623087001, 0.6237138881360947, 0.015545150803274382, 0.4371684311473786, 1.8120009952029614e-63, 0.09340477951081945, 0.00020424242233467476, 9.370566915917284e-47]\n",
        "#2.08201560677332 [0.19917010931141044, 0.45632631220048914, 0.0001612602546171412, 0.0003376799973398343, 0.00010000000093987659, 0.0015603919301444007, 0.003263617150941586, 0.00010000000004869381, 0.00014732039660217769]\n",
        "#0.9981266364368617 [0.2272406488288084, 1.69390133896621, 6.182439400316338e-06, 0.00014366979837924094, 3.388350016063105e-18, 0.02001179375122896, 0.12571821220432006, 0.00019170364600160019, 3.0190557136958305e-16]\n",
        "#0.2123296416135527 [0.48723469028469774, 0.5858933545068362, 0.01988064149382497, 0.39407830926111664, 0.018395730278878468, 0.025839519255141337, 0.09288786546081026, 0.00014953980756786663, 4.4338012696009044e-49]\n",
        "#562.2235297366656 [0.13906397560524864, 1.1975288609511665, 0.0006610256427758247, 0.04858044129968728, 0.02048497167853619, 0.7928682852925184, 0.010188524313668186, 0.04150771415413315, 0.05045959451318657, 0.08753276224791284, 0.0006322999575467825, 1.7784778796069949]"
      ],
      "execution_count": null,
      "outputs": []
    },
    {
      "cell_type": "code",
      "metadata": {
        "id": "pHwuxKD4-QyU"
      },
      "source": [
        "[H0, QS0, QI0, QR0] = [0]*4\n",
        "\n",
        "R0 = TotalInfected_1[0] - Death_1[0]\n",
        "I0 = 100\n",
        "D0 = Death_1[0]\n",
        "S0 = N - R0 - I0 - D0\n",
        "(t, S, I, H, R, D, QS, QI, QR) = mimic(days1, [S0, I0, H0, R0, D0, QS0, QI0, QR0], [alpha1, beta1, r_I1, r_H1, eta1, tau, mu])\n",
        "plot(t, S, I, H, R, D, QS, QI, QR, TotalInfected_1, Death_1, days1, show = ['S', 'I', 'H', 'R', 'D', 'QS', 'QI', 'QR', 'pTI', 'pTD', 'rTI', 'rTD'])\n",
        "\n",
        "\n",
        "R0 = TotalInfected_2[0] - Death_2[0]\n",
        "I0 = 100\n",
        "D0 = Death_2[0]\n",
        "S0 = N - R0 - I0 - D0\n",
        "(t, S, I, H, R, D, QS, QI, QR) = mimic(days2, [S0, I0, H0, R0, D0, QS0, QI0, QR0], [alpha2, beta2, r_I2, r_H2, eta2, tau, mu])\n",
        "plot(t, S, I, H, R, D, QS, QI, QR, TotalInfected_2, Death_2, days2, show = ['S', 'I', 'H', 'R', 'D', 'QS', 'QI', 'QR', 'pTI', 'pTD', 'rTI', 'rTD'])"
      ],
      "execution_count": null,
      "outputs": []
    },
    {
      "cell_type": "code",
      "metadata": {
        "id": "5HdHra3GB2bd"
      },
      "source": [
        ""
      ],
      "execution_count": null,
      "outputs": []
    },
    {
      "cell_type": "code",
      "metadata": {
        "id": "FVckk41tB2f8"
      },
      "source": [
        ""
      ],
      "execution_count": null,
      "outputs": []
    },
    {
      "cell_type": "code",
      "metadata": {
        "id": "2BJvuSXPB2ic"
      },
      "source": [
        ""
      ],
      "execution_count": null,
      "outputs": []
    },
    {
      "cell_type": "code",
      "metadata": {
        "id": "wczjyXFPB2kr"
      },
      "source": [
        ""
      ],
      "execution_count": null,
      "outputs": []
    },
    {
      "cell_type": "code",
      "metadata": {
        "id": "Kh6JjcX_B2m_"
      },
      "source": [
        ""
      ],
      "execution_count": null,
      "outputs": []
    },
    {
      "cell_type": "code",
      "metadata": {
        "id": "yALkLc_rB2pF"
      },
      "source": [
        ""
      ],
      "execution_count": null,
      "outputs": []
    }
  ]
}